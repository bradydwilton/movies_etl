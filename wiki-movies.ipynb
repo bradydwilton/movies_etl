{
 "metadata": {
  "language_info": {
   "codemirror_mode": {
    "name": "ipython",
    "version": 3
   },
   "file_extension": ".py",
   "mimetype": "text/x-python",
   "name": "python",
   "nbconvert_exporter": "python",
   "pygments_lexer": "ipython3",
   "version": "3.7.9-final"
  },
  "orig_nbformat": 2,
  "kernelspec": {
   "name": "python3",
   "display_name": "Python 3",
   "language": "python"
  }
 },
 "nbformat": 4,
 "nbformat_minor": 2,
 "cells": [
  {
   "cell_type": "code",
   "execution_count": 1,
   "metadata": {},
   "outputs": [],
   "source": [
    "import pandas as pd\n",
    "import numpy as np\n",
    "import json"
   ]
  },
  {
   "cell_type": "code",
   "execution_count": 2,
   "metadata": {},
   "outputs": [],
   "source": [
    "# file_dir = os.path.join('C:','Users','Desktop','brady','1_BootcampProjects','08_ExtractTransformLoad')\n",
    "file_dir = 'C://Users/brady/Desktop/1_BootcampProjects/08_ExtractTransformLoad/movies_etl/'"
   ]
  },
  {
   "cell_type": "code",
   "execution_count": 3,
   "metadata": {},
   "outputs": [
    {
     "output_type": "execute_result",
     "data": {
      "text/plain": [
       "'C://Users/brady/Desktop/1_BootcampProjects/08_ExtractTransformLoad/movies_etl/'"
      ]
     },
     "metadata": {},
     "execution_count": 3
    }
   ],
   "source": [
    "file_dir"
   ]
  },
  {
   "cell_type": "code",
   "execution_count": 4,
   "metadata": {},
   "outputs": [],
   "source": [
    "with open(f'{file_dir}wikipedia-movies.json', mode='r') as file:\n",
    "    wiki_movies_raw = json.load(file)"
   ]
  },
  {
   "cell_type": "code",
   "execution_count": 5,
   "metadata": {},
   "outputs": [
    {
     "output_type": "execute_result",
     "data": {
      "text/plain": [
       "7311"
      ]
     },
     "metadata": {},
     "execution_count": 5
    }
   ],
   "source": [
    "len(wiki_movies_raw)"
   ]
  },
  {
   "cell_type": "code",
   "execution_count": 6,
   "metadata": {},
   "outputs": [],
   "source": [
    "wiki_movies_df = pd.DataFrame(wiki_movies_raw)"
   ]
  },
  {
   "cell_type": "code",
   "execution_count": 7,
   "metadata": {},
   "outputs": [
    {
     "output_type": "execute_result",
     "data": {
      "text/plain": [
       "['url',\n",
       " 'year',\n",
       " 'imdb_link',\n",
       " 'title',\n",
       " 'Directed by',\n",
       " 'Produced by',\n",
       " 'Screenplay by',\n",
       " 'Story by',\n",
       " 'Based on',\n",
       " 'Starring',\n",
       " 'Narrated by',\n",
       " 'Music by',\n",
       " 'Cinematography',\n",
       " 'Edited by',\n",
       " 'Productioncompany ',\n",
       " 'Distributed by',\n",
       " 'Release date',\n",
       " 'Running time',\n",
       " 'Country',\n",
       " 'Language',\n",
       " 'Budget',\n",
       " 'Box office',\n",
       " 'Written by',\n",
       " 'Genre',\n",
       " 'Theme music composer',\n",
       " 'Country of origin',\n",
       " 'Original language(s)',\n",
       " 'Producer(s)',\n",
       " 'Editor(s)',\n",
       " 'Production company(s)',\n",
       " 'Original network',\n",
       " 'Original release',\n",
       " 'Productioncompanies ',\n",
       " 'Executive producer(s)',\n",
       " 'Production location(s)',\n",
       " 'Distributor',\n",
       " 'Picture format',\n",
       " 'Audio format',\n",
       " 'Voices of',\n",
       " 'Followed by',\n",
       " 'Composer(s)',\n",
       " 'Created by',\n",
       " 'Also known as',\n",
       " 'Opening theme',\n",
       " 'No. of episodes',\n",
       " 'Preceded by',\n",
       " 'Author',\n",
       " 'Publisher',\n",
       " 'Publication date',\n",
       " 'Media type',\n",
       " 'Pages',\n",
       " 'ISBN',\n",
       " 'OCLC',\n",
       " 'LC Class',\n",
       " 'Cover artist',\n",
       " 'Series',\n",
       " 'Set in',\n",
       " 'Adaptation by',\n",
       " 'Suggested by',\n",
       " 'Biographical data',\n",
       " 'Born',\n",
       " 'Died',\n",
       " 'Resting place',\n",
       " 'Occupation',\n",
       " 'Years active',\n",
       " 'Spouse(s)',\n",
       " 'Children',\n",
       " 'Parent(s)',\n",
       " 'Genres',\n",
       " 'Instruments',\n",
       " 'Labels',\n",
       " 'Website',\n",
       " 'Traditional',\n",
       " 'Mandarin',\n",
       " 'Type',\n",
       " 'Industry',\n",
       " 'Fate',\n",
       " 'Founded',\n",
       " 'Founder',\n",
       " 'Headquarters',\n",
       " 'Parent',\n",
       " 'Released',\n",
       " 'Recorded',\n",
       " 'Venue',\n",
       " 'Length',\n",
       " 'Label',\n",
       " 'Director',\n",
       " 'Producer',\n",
       " 'Area',\n",
       " 'Coordinates',\n",
       " 'Status',\n",
       " 'Opening date',\n",
       " 'Closing date',\n",
       " 'Replaced',\n",
       " 'Replaced by',\n",
       " 'Name',\n",
       " 'Attraction type',\n",
       " 'Music',\n",
       " 'Duration',\n",
       " 'Simplified Chinese',\n",
       " 'Traditional Chinese',\n",
       " 'Hanyu Pinyin',\n",
       " 'Literal meaning',\n",
       " 'Transcriptions',\n",
       " 'Bopomofo',\n",
       " 'Gwoyeu Romatzyh',\n",
       " 'Wade–Giles',\n",
       " 'IPA',\n",
       " 'Yale Romanization',\n",
       " 'Jyutping',\n",
       " 'Hokkien POJ',\n",
       " 'Animation by',\n",
       " 'Color process',\n",
       " 'Engine(s)',\n",
       " 'Genre(s)',\n",
       " 'Actor control',\n",
       " 'Production company',\n",
       " 'Release(s)',\n",
       " 'Format(s)',\n",
       " 'Simplified',\n",
       " 'Characters',\n",
       " 'Date premiered',\n",
       " 'Place premiered',\n",
       " 'Setting',\n",
       " 'Original language',\n",
       " 'Subject',\n",
       " 'Published',\n",
       " 'Dewey Decimal',\n",
       " 'Text',\n",
       " 'Illustrator',\n",
       " 'Original title',\n",
       " 'Published in English',\n",
       " 'French',\n",
       " 'Developed by',\n",
       " 'Ending theme',\n",
       " 'No. of seasons',\n",
       " 'Nationality',\n",
       " 'Portrayed by',\n",
       " 'Alias',\n",
       " 'Species',\n",
       " 'Gender',\n",
       " 'Family',\n",
       " 'Alma mater',\n",
       " 'Camera setup',\n",
       " 'Novel(s)',\n",
       " 'Comics',\n",
       " 'Film(s)',\n",
       " 'Screen story by',\n",
       " 'Hangul',\n",
       " 'Revised Romanization',\n",
       " 'McCune–Reischauer',\n",
       " 'Developer(s)',\n",
       " 'Publisher(s)',\n",
       " 'Designer(s)',\n",
       " 'Programmer(s)',\n",
       " 'Artist(s)',\n",
       " 'Writer(s)',\n",
       " 'Engine',\n",
       " 'Platform(s)',\n",
       " 'Release',\n",
       " 'Mode(s)',\n",
       " 'Original work',\n",
       " 'Television series',\n",
       " 'Japanese',\n",
       " 'Hepburn',\n",
       " 'Literally',\n",
       " 'Cantonese',\n",
       " 'Full name',\n",
       " 'Height',\n",
       " 'Seasons',\n",
       " 'Chinese',\n",
       " 'Other names',\n",
       " 'Relatives',\n",
       " 'Yiddish',\n",
       " 'Formerly',\n",
       " 'Key people',\n",
       " 'Total assets',\n",
       " 'Owner',\n",
       " 'Number of employees',\n",
       " 'Divisions',\n",
       " 'Subsidiaries',\n",
       " 'Arabic',\n",
       " 'Romanized',\n",
       " 'Predecessor',\n",
       " 'Founders',\n",
       " 'Area served',\n",
       " 'Products',\n",
       " 'Services',\n",
       " 'Russian',\n",
       " 'Hebrew',\n",
       " 'Revenue',\n",
       " 'Operating income',\n",
       " 'Polish']"
      ]
     },
     "metadata": {},
     "execution_count": 7
    }
   ],
   "source": [
    "wiki_movies_df.columns.to_list()"
   ]
  },
  {
   "cell_type": "code",
   "execution_count": 13,
   "metadata": {},
   "outputs": [
    {
     "output_type": "execute_result",
     "data": {
      "text/plain": [
       "7076"
      ]
     },
     "metadata": {},
     "execution_count": 13
    }
   ],
   "source": [
    "wiki_movies = [movie for movie in wiki_movies_raw\n",
    "                if ('Director' in movie or 'Directed by' in movie)\n",
    "                    and 'imdb_link' in movie\n",
    "                    and 'No. of episodes' not in movie]\n",
    "len(wiki_movies)"
   ]
  },
  {
   "cell_type": "code",
   "execution_count": 14,
   "metadata": {},
   "outputs": [
    {
     "output_type": "execute_result",
     "data": {
      "text/plain": [
       "75"
      ]
     },
     "metadata": {},
     "execution_count": 14
    }
   ],
   "source": [
    "wiki_df = pd.DataFrame(wiki_movies)\n",
    "len(wiki_df.columns)"
   ]
  },
  {
   "cell_type": "code",
   "execution_count": 15,
   "metadata": {},
   "outputs": [
    {
     "output_type": "execute_result",
     "data": {
      "text/plain": [
       "7076"
      ]
     },
     "metadata": {},
     "execution_count": 15
    }
   ],
   "source": [
    "len(wiki_df.values)"
   ]
  },
  {
   "cell_type": "code",
   "execution_count": 151,
   "metadata": {},
   "outputs": [
    {
     "output_type": "execute_result",
     "data": {
      "text/plain": [
       "                                                  url  year  \\\n",
       "6834  https://en.wikipedia.org/wiki/The_Insult_(film)  2018   \n",
       "\n",
       "                                  imdb_link       title   Directed by  \\\n",
       "6834  https://www.imdb.com/title/tt7048622/  The Insult  Ziad Doueiri   \n",
       "\n",
       "                                            Produced by Screenplay by  \\\n",
       "6834  [Rachid Bouchareb, Jean Bréhat, Julie Gayet, A...           NaN   \n",
       "\n",
       "     Story by Based on                      Starring  ... Hepburn  \\\n",
       "6834      NaN      NaN  [Adel Karam, Kamel El Basha]  ...     NaN   \n",
       "\n",
       "        Literally Cantonese Chinese Yiddish       Arabic        Romanized  \\\n",
       "6834  Case No. 23       NaN     NaN     NaN  قضية رقم ٢٣  Qadiyya raqm 23   \n",
       "\n",
       "     Russian Hebrew Polish  \n",
       "6834     NaN    NaN    NaN  \n",
       "\n",
       "[1 rows x 75 columns]"
      ],
      "text/html": "<div>\n<style scoped>\n    .dataframe tbody tr th:only-of-type {\n        vertical-align: middle;\n    }\n\n    .dataframe tbody tr th {\n        vertical-align: top;\n    }\n\n    .dataframe thead th {\n        text-align: right;\n    }\n</style>\n<table border=\"1\" class=\"dataframe\">\n  <thead>\n    <tr style=\"text-align: right;\">\n      <th></th>\n      <th>url</th>\n      <th>year</th>\n      <th>imdb_link</th>\n      <th>title</th>\n      <th>Directed by</th>\n      <th>Produced by</th>\n      <th>Screenplay by</th>\n      <th>Story by</th>\n      <th>Based on</th>\n      <th>Starring</th>\n      <th>...</th>\n      <th>Hepburn</th>\n      <th>Literally</th>\n      <th>Cantonese</th>\n      <th>Chinese</th>\n      <th>Yiddish</th>\n      <th>Arabic</th>\n      <th>Romanized</th>\n      <th>Russian</th>\n      <th>Hebrew</th>\n      <th>Polish</th>\n    </tr>\n  </thead>\n  <tbody>\n    <tr>\n      <th>6834</th>\n      <td>https://en.wikipedia.org/wiki/The_Insult_(film)</td>\n      <td>2018</td>\n      <td>https://www.imdb.com/title/tt7048622/</td>\n      <td>The Insult</td>\n      <td>Ziad Doueiri</td>\n      <td>[Rachid Bouchareb, Jean Bréhat, Julie Gayet, A...</td>\n      <td>NaN</td>\n      <td>NaN</td>\n      <td>NaN</td>\n      <td>[Adel Karam, Kamel El Basha]</td>\n      <td>...</td>\n      <td>NaN</td>\n      <td>Case No. 23</td>\n      <td>NaN</td>\n      <td>NaN</td>\n      <td>NaN</td>\n      <td>قضية رقم ٢٣</td>\n      <td>Qadiyya raqm 23</td>\n      <td>NaN</td>\n      <td>NaN</td>\n      <td>NaN</td>\n    </tr>\n  </tbody>\n</table>\n<p>1 rows × 75 columns</p>\n</div>"
     },
     "metadata": {},
     "execution_count": 151
    }
   ],
   "source": [
    "movie = wiki_df.loc[wiki_df['title'] == 'The Insult']\n",
    "movie"
   ]
  },
  {
   "cell_type": "code",
   "execution_count": 187,
   "metadata": {},
   "outputs": [],
   "source": [
    "def clean_movie(movie):\n",
    "    new_movie = dict(movie) #create a non-destructive copy\n",
    "    alt_titles_dict = {}\n",
    "    for key in alt_titles:\n",
    "        if key in new_movie.keys():\n",
    "            alt_titles_dict[key] = movie[key]\n",
    "            new_movie.pop(key)\n",
    "    # if len(alt_titles_dict) > 0:\n",
    "    new_movie['Alternative titles'] = alt_titles_dict\n",
    "    return new_movie"
   ]
  },
  {
   "cell_type": "code",
   "execution_count": 163,
   "metadata": {},
   "outputs": [],
   "source": [
    "def clean_movie_2(movie):\n",
    "    movie = dict(movie) #create a non-destructive copy\n",
    "    alt_titles = {}\n",
    "    for key in ['Also known as','Arabic','Cantonese','Chinese','French',\n",
    "                'Hangul','Hebrew','Hepburn','Japanese','Literally',\n",
    "                'Mandarin','McCune–Reischauer','Original title','Polish',\n",
    "                'Revised Romanization','Romanized','Russian',\n",
    "                'Simplified','Traditional','Yiddish']:\n",
    "        if key in movie:\n",
    "            alt_titles[key] = movie[key]\n",
    "            movie.pop(key)\n",
    "    if len(alt_titles) > 0:\n",
    "        movie['alt_titles'] = alt_titles\n",
    "\n",
    "    return movie"
   ]
  },
  {
   "cell_type": "code",
   "execution_count": 168,
   "metadata": {},
   "outputs": [
    {
     "output_type": "execute_result",
     "data": {
      "text/plain": [
       "dict_keys(['Also known as', 'Arabic', 'Cantonese', 'Chinese', 'French', 'Hangul', 'Hebrew', 'Hepburn', 'Japanese', 'Literally', 'Original title', 'Polish', 'Revised Romanization', 'Romanized', 'Russian', 'Simplified', 'Traditional', 'Yiddish'])"
      ]
     },
     "metadata": {},
     "execution_count": 168
    }
   ],
   "source": [
    "new_movie = clean_movie(movie)\n",
    "new_movie['alternative titles'].keys()"
   ]
  },
  {
   "cell_type": "code",
   "execution_count": 19,
   "metadata": {},
   "outputs": [
    {
     "output_type": "execute_result",
     "data": {
      "text/plain": [
       "                                                  url  year  \\\n",
       "6834  https://en.wikipedia.org/wiki/The_Insult_(film)  2018   \n",
       "7058   https://en.wikipedia.org/wiki/Capernaum_(film)  2018   \n",
       "\n",
       "                                  imdb_link       title    Directed by  \\\n",
       "6834  https://www.imdb.com/title/tt7048622/  The Insult   Ziad Doueiri   \n",
       "7058  https://www.imdb.com/title/tt8267604/   Capernaum  Nadine Labaki   \n",
       "\n",
       "                                            Produced by  \\\n",
       "6834  [Rachid Bouchareb, Jean Bréhat, Julie Gayet, A...   \n",
       "7058                    [Michel Merkt, Khaled Mouzanar]   \n",
       "\n",
       "                                          Screenplay by  \\\n",
       "6834                                                NaN   \n",
       "7058  [Nadine Labaki, Jihad Hojaily, Michelle Keserw...   \n",
       "\n",
       "                                               Story by Based on  \\\n",
       "6834                                                NaN      NaN   \n",
       "7058  [Georges Khabbaz, Nadine Labaki, Michelle Kese...      NaN   \n",
       "\n",
       "                                               Starring  ... Hepburn  \\\n",
       "6834                       [Adel Karam, Kamel El Basha]  ...     NaN   \n",
       "7058  [Zain Al Rafeea, Yordanos Shiferaw, Boluwatife...  ...     NaN   \n",
       "\n",
       "        Literally Cantonese Chinese Yiddish       Arabic        Romanized  \\\n",
       "6834  Case No. 23       NaN     NaN     NaN  قضية رقم ٢٣  Qadiyya raqm 23   \n",
       "7058          NaN       NaN     NaN     NaN    کفرناحوم‎              NaN   \n",
       "\n",
       "     Russian Hebrew Polish  \n",
       "6834     NaN    NaN    NaN  \n",
       "7058     NaN    NaN    NaN  \n",
       "\n",
       "[2 rows x 75 columns]"
      ],
      "text/html": "<div>\n<style scoped>\n    .dataframe tbody tr th:only-of-type {\n        vertical-align: middle;\n    }\n\n    .dataframe tbody tr th {\n        vertical-align: top;\n    }\n\n    .dataframe thead th {\n        text-align: right;\n    }\n</style>\n<table border=\"1\" class=\"dataframe\">\n  <thead>\n    <tr style=\"text-align: right;\">\n      <th></th>\n      <th>url</th>\n      <th>year</th>\n      <th>imdb_link</th>\n      <th>title</th>\n      <th>Directed by</th>\n      <th>Produced by</th>\n      <th>Screenplay by</th>\n      <th>Story by</th>\n      <th>Based on</th>\n      <th>Starring</th>\n      <th>...</th>\n      <th>Hepburn</th>\n      <th>Literally</th>\n      <th>Cantonese</th>\n      <th>Chinese</th>\n      <th>Yiddish</th>\n      <th>Arabic</th>\n      <th>Romanized</th>\n      <th>Russian</th>\n      <th>Hebrew</th>\n      <th>Polish</th>\n    </tr>\n  </thead>\n  <tbody>\n    <tr>\n      <th>6834</th>\n      <td>https://en.wikipedia.org/wiki/The_Insult_(film)</td>\n      <td>2018</td>\n      <td>https://www.imdb.com/title/tt7048622/</td>\n      <td>The Insult</td>\n      <td>Ziad Doueiri</td>\n      <td>[Rachid Bouchareb, Jean Bréhat, Julie Gayet, A...</td>\n      <td>NaN</td>\n      <td>NaN</td>\n      <td>NaN</td>\n      <td>[Adel Karam, Kamel El Basha]</td>\n      <td>...</td>\n      <td>NaN</td>\n      <td>Case No. 23</td>\n      <td>NaN</td>\n      <td>NaN</td>\n      <td>NaN</td>\n      <td>قضية رقم ٢٣</td>\n      <td>Qadiyya raqm 23</td>\n      <td>NaN</td>\n      <td>NaN</td>\n      <td>NaN</td>\n    </tr>\n    <tr>\n      <th>7058</th>\n      <td>https://en.wikipedia.org/wiki/Capernaum_(film)</td>\n      <td>2018</td>\n      <td>https://www.imdb.com/title/tt8267604/</td>\n      <td>Capernaum</td>\n      <td>Nadine Labaki</td>\n      <td>[Michel Merkt, Khaled Mouzanar]</td>\n      <td>[Nadine Labaki, Jihad Hojaily, Michelle Keserw...</td>\n      <td>[Georges Khabbaz, Nadine Labaki, Michelle Kese...</td>\n      <td>NaN</td>\n      <td>[Zain Al Rafeea, Yordanos Shiferaw, Boluwatife...</td>\n      <td>...</td>\n      <td>NaN</td>\n      <td>NaN</td>\n      <td>NaN</td>\n      <td>NaN</td>\n      <td>NaN</td>\n      <td>کفرناحوم‎</td>\n      <td>NaN</td>\n      <td>NaN</td>\n      <td>NaN</td>\n      <td>NaN</td>\n    </tr>\n  </tbody>\n</table>\n<p>2 rows × 75 columns</p>\n</div>"
     },
     "metadata": {},
     "execution_count": 19
    }
   ],
   "source": [
    "wiki_df[wiki_df['Arabic'].notnull()]"
   ]
  },
  {
   "cell_type": "code",
   "execution_count": 35,
   "metadata": {},
   "outputs": [
    {
     "output_type": "execute_result",
     "data": {
      "text/plain": [
       "<bound method DataFrame.value_counts of                                                     url  year  \\\n",
       "0     https://en.wikipedia.org/wiki/The_Adventures_o...  1990   \n",
       "1     https://en.wikipedia.org/wiki/After_Dark,_My_S...  1990   \n",
       "2      https://en.wikipedia.org/wiki/Air_America_(film)  1990   \n",
       "3       https://en.wikipedia.org/wiki/Alice_(1990_film)  1990   \n",
       "4         https://en.wikipedia.org/wiki/Almost_an_Angel  1990   \n",
       "...                                                 ...   ...   \n",
       "7071    https://en.wikipedia.org/wiki/Holmes_%26_Watson  2018   \n",
       "7072     https://en.wikipedia.org/wiki/Vice_(2018_film)  2018   \n",
       "7073  https://en.wikipedia.org/wiki/On_the_Basis_of_Sex  2018   \n",
       "7074  https://en.wikipedia.org/wiki/Destroyer_(2018_...  2018   \n",
       "7075  https://en.wikipedia.org/wiki/Black_Mirror:_Ba...  2018   \n",
       "\n",
       "                                  imdb_link                            title  \\\n",
       "0     https://www.imdb.com/title/tt0098987/  The Adventures of Ford Fairlane   \n",
       "1     https://www.imdb.com/title/tt0098994/             After Dark, My Sweet   \n",
       "2     https://www.imdb.com/title/tt0099005/                      Air America   \n",
       "3     https://www.imdb.com/title/tt0099012/                            Alice   \n",
       "4     https://www.imdb.com/title/tt0099018/                  Almost an Angel   \n",
       "...                                     ...                              ...   \n",
       "7071  https://www.imdb.com/title/tt1255919/                  Holmes & Watson   \n",
       "7072  https://www.imdb.com/title/tt6266538/                             Vice   \n",
       "7073  https://www.imdb.com/title/tt4669788/              On the Basis of Sex   \n",
       "7074  https://www.imdb.com/title/tt7137380/                        Destroyer   \n",
       "7075  https://www.imdb.com/title/tt9495224/                     Bandersnatch   \n",
       "\n",
       "             Directed by                                        Produced by  \\\n",
       "0           Renny Harlin                         [Steve Perry, Joel Silver]   \n",
       "1            James Foley                        [Ric Kidney, Robert Redlin]   \n",
       "2     Roger Spottiswoode                                     Daniel Melnick   \n",
       "3            Woody Allen                                    Robert Greenhut   \n",
       "4           John Cornell                                       John Cornell   \n",
       "...                  ...                                                ...   \n",
       "7071          Etan Cohen  [Will Ferrell, Adam McKay, Jimmy Miller, Clayt...   \n",
       "7072          Adam McKay  [Brad Pitt, Dede Gardner, Jeremy Kleiner, Kevi...   \n",
       "7073          Mimi Leder                                     Robert W. Cort   \n",
       "7074        Karyn Kusama             [Fred Berger, Phil Hay, Matt Manfredi]   \n",
       "7075         David Slade                                     Russell McLean   \n",
       "\n",
       "                                   Screenplay by                     Story by  \\\n",
       "0     [David Arnott, James Cappe, Daniel Waters]  [David Arnott, James Cappe]   \n",
       "1                   [James Foley, Robert Redlin]                          NaN   \n",
       "2                     [John Eskow, Richard Rush]                          NaN   \n",
       "3                                            NaN                          NaN   \n",
       "4                                            NaN                          NaN   \n",
       "...                                          ...                          ...   \n",
       "7071                                  Etan Cohen                          NaN   \n",
       "7072                                         NaN                          NaN   \n",
       "7073                                         NaN                          NaN   \n",
       "7074                                         NaN                          NaN   \n",
       "7075                                         NaN                          NaN   \n",
       "\n",
       "                                               Based on  \\\n",
       "0                           [Characters, by Rex Weiner]   \n",
       "1     [the novel, After Dark, My Sweet, by, Jim Thom...   \n",
       "2                [Air America, by, Christopher Robbins]   \n",
       "3                                                   NaN   \n",
       "4                                                   NaN   \n",
       "...                                                 ...   \n",
       "7071  [Sherlock Holmes, and, Dr. Watson, by, Sir Art...   \n",
       "7072                                                NaN   \n",
       "7073                                                NaN   \n",
       "7074                                                NaN   \n",
       "7075                                                NaN   \n",
       "\n",
       "                                               Starring  ... Hepburn  \\\n",
       "0     [Andrew Dice Clay, Wayne Newton, Priscilla Pre...  ...     NaN   \n",
       "1     [Jason Patric, Rachel Ward, Bruce Dern, George...  ...     NaN   \n",
       "2     [Mel Gibson, Robert Downey Jr., Nancy Travis, ...  ...     NaN   \n",
       "3     [Alec Baldwin, Blythe Danner, Judy Davis, Mia ...  ...     NaN   \n",
       "4           [Paul Hogan, Elias Koteas, Linda Kozlowski]  ...     NaN   \n",
       "...                                                 ...  ...     ...   \n",
       "7071  [Will Ferrell, John C. Reilly, Rebecca Hall, R...  ...     NaN   \n",
       "7072  [Christian Bale, Amy Adams, Steve Carell, Sam ...  ...     NaN   \n",
       "7073  [Felicity Jones, Armie Hammer, Justin Theroux,...  ...     NaN   \n",
       "7074  [Nicole Kidman, Sebastian Stan, Toby Kebbell, ...  ...     NaN   \n",
       "7075  [Fionn Whitehead, Will Poulter, Craig Parkinso...  ...     NaN   \n",
       "\n",
       "     Literally Cantonese Chinese Yiddish Arabic Romanized Russian Hebrew  \\\n",
       "0          NaN       NaN     NaN     NaN    NaN       NaN     NaN    NaN   \n",
       "1          NaN       NaN     NaN     NaN    NaN       NaN     NaN    NaN   \n",
       "2          NaN       NaN     NaN     NaN    NaN       NaN     NaN    NaN   \n",
       "3          NaN       NaN     NaN     NaN    NaN       NaN     NaN    NaN   \n",
       "4          NaN       NaN     NaN     NaN    NaN       NaN     NaN    NaN   \n",
       "...        ...       ...     ...     ...    ...       ...     ...    ...   \n",
       "7071       NaN       NaN     NaN     NaN    NaN       NaN     NaN    NaN   \n",
       "7072       NaN       NaN     NaN     NaN    NaN       NaN     NaN    NaN   \n",
       "7073       NaN       NaN     NaN     NaN    NaN       NaN     NaN    NaN   \n",
       "7074       NaN       NaN     NaN     NaN    NaN       NaN     NaN    NaN   \n",
       "7075       NaN       NaN     NaN     NaN    NaN       NaN     NaN    NaN   \n",
       "\n",
       "     Polish  \n",
       "0       NaN  \n",
       "1       NaN  \n",
       "2       NaN  \n",
       "3       NaN  \n",
       "4       NaN  \n",
       "...     ...  \n",
       "7071    NaN  \n",
       "7072    NaN  \n",
       "7073    NaN  \n",
       "7074    NaN  \n",
       "7075    NaN  \n",
       "\n",
       "[7076 rows x 75 columns]>"
      ]
     },
     "metadata": {},
     "execution_count": 35
    }
   ],
   "source": [
    "wiki_df.value_counts"
   ]
  },
  {
   "cell_type": "code",
   "execution_count": 22,
   "metadata": {},
   "outputs": [
    {
     "output_type": "execute_result",
     "data": {
      "text/plain": [
       "['Adaptation by',\n",
       " 'Also known as',\n",
       " 'Animation by',\n",
       " 'Arabic',\n",
       " 'Audio format',\n",
       " 'Based on',\n",
       " 'Box office',\n",
       " 'Budget',\n",
       " 'Cantonese',\n",
       " 'Chinese',\n",
       " 'Cinematography',\n",
       " 'Color process',\n",
       " 'Composer(s)',\n",
       " 'Country',\n",
       " 'Country of origin',\n",
       " 'Created by',\n",
       " 'Directed by',\n",
       " 'Director',\n",
       " 'Distributed by',\n",
       " 'Distributor',\n",
       " 'Edited by',\n",
       " 'Editor(s)',\n",
       " 'Executive producer(s)',\n",
       " 'Followed by',\n",
       " 'French',\n",
       " 'Genre',\n",
       " 'Hangul',\n",
       " 'Hebrew',\n",
       " 'Hepburn',\n",
       " 'Japanese',\n",
       " 'Label',\n",
       " 'Language',\n",
       " 'Length',\n",
       " 'Literally',\n",
       " 'Mandarin',\n",
       " 'McCune–Reischauer',\n",
       " 'Music by',\n",
       " 'Narrated by',\n",
       " 'Original language(s)',\n",
       " 'Original network',\n",
       " 'Original release',\n",
       " 'Original title',\n",
       " 'Picture format',\n",
       " 'Polish',\n",
       " 'Preceded by',\n",
       " 'Produced by',\n",
       " 'Producer',\n",
       " 'Producer(s)',\n",
       " 'Production company(s)',\n",
       " 'Production location(s)',\n",
       " 'Productioncompanies ',\n",
       " 'Productioncompany ',\n",
       " 'Recorded',\n",
       " 'Release date',\n",
       " 'Released',\n",
       " 'Revised Romanization',\n",
       " 'Romanized',\n",
       " 'Running time',\n",
       " 'Russian',\n",
       " 'Screen story by',\n",
       " 'Screenplay by',\n",
       " 'Simplified',\n",
       " 'Starring',\n",
       " 'Story by',\n",
       " 'Suggested by',\n",
       " 'Theme music composer',\n",
       " 'Traditional',\n",
       " 'Venue',\n",
       " 'Voices of',\n",
       " 'Written by',\n",
       " 'Yiddish',\n",
       " 'imdb_link',\n",
       " 'title',\n",
       " 'url',\n",
       " 'year']"
      ]
     },
     "metadata": {},
     "execution_count": 22
    }
   ],
   "source": [
    "sorted(wiki_df.columns.to_list())"
   ]
  },
  {
   "cell_type": "code",
   "execution_count": 189,
   "metadata": {},
   "outputs": [],
   "source": [
    "alt_titles = ['Also known as','Arabic','Cantonese','Chinese','French', 'Hangul','Hebrew','Hepburn','Japanese','Literally','Mandarin', 'McCune–Reischauer','Original title','Polish', 'Revised Romanization','Romanized','Russian','Simplified','Traditional','Yiddish']"
   ]
  },
  {
   "cell_type": "code",
   "execution_count": 67,
   "metadata": {},
   "outputs": [],
   "source": [
    "movie = wiki_df.loc[wiki_df['title'] == 'The Insult']"
   ]
  },
  {
   "cell_type": "code",
   "execution_count": 68,
   "metadata": {},
   "outputs": [
    {
     "output_type": "execute_result",
     "data": {
      "text/plain": [
       "6834    قضية رقم ٢٣\n",
       "Name: Arabic, dtype: object"
      ]
     },
     "metadata": {},
     "execution_count": 68
    }
   ],
   "source": [
    "new_movie = dict(movie)\n",
    "alt_titles_dict = dict()\n",
    "tit_list = []\n",
    "counter = 0\n",
    "for key in alt_titles:\n",
    "    if key in new_movie.keys():\n",
    "        alt_titles_dict[key]= (new_movie.pop(key))\n",
    "        counter += 1\n",
    "    else:\n",
    "        pass\n",
    "alt_titles_dict['Arabic']"
   ]
  },
  {
   "cell_type": "code",
   "execution_count": 190,
   "metadata": {},
   "outputs": [
    {
     "output_type": "execute_result",
     "data": {
      "text/plain": [
       "['Adaptation by',\n",
       " 'Alternative titles',\n",
       " 'Animation by',\n",
       " 'Audio format',\n",
       " 'Based on',\n",
       " 'Box office',\n",
       " 'Budget',\n",
       " 'Cinematography',\n",
       " 'Color process',\n",
       " 'Composer(s)',\n",
       " 'Country',\n",
       " 'Country of origin',\n",
       " 'Created by',\n",
       " 'Directed by',\n",
       " 'Director',\n",
       " 'Distributed by',\n",
       " 'Distributor',\n",
       " 'Edited by',\n",
       " 'Editor(s)',\n",
       " 'Executive producer(s)',\n",
       " 'Followed by',\n",
       " 'Genre',\n",
       " 'Label',\n",
       " 'Language',\n",
       " 'Length',\n",
       " 'Music by',\n",
       " 'Narrated by',\n",
       " 'Original language(s)',\n",
       " 'Original network',\n",
       " 'Original release',\n",
       " 'Picture format',\n",
       " 'Preceded by',\n",
       " 'Produced by',\n",
       " 'Producer',\n",
       " 'Producer(s)',\n",
       " 'Production company(s)',\n",
       " 'Production location(s)',\n",
       " 'Productioncompanies ',\n",
       " 'Productioncompany ',\n",
       " 'Recorded',\n",
       " 'Release date',\n",
       " 'Released',\n",
       " 'Running time',\n",
       " 'Screen story by',\n",
       " 'Screenplay by',\n",
       " 'Starring',\n",
       " 'Story by',\n",
       " 'Suggested by',\n",
       " 'Theme music composer',\n",
       " 'Venue',\n",
       " 'Voices of',\n",
       " 'Written by',\n",
       " 'imdb_link',\n",
       " 'title',\n",
       " 'url',\n",
       " 'year']"
      ]
     },
     "metadata": {},
     "execution_count": 190
    }
   ],
   "source": [
    "clean_movies = [clean_movie(movie) for movie in wiki_movies]\n",
    "wiki_movies_df = pd.DataFrame(clean_movies)\n",
    "sorted(wiki_movies_df.columns.to_list())"
   ]
  },
  {
   "cell_type": "code",
   "execution_count": 194,
   "metadata": {},
   "outputs": [
    {
     "output_type": "execute_result",
     "data": {
      "text/plain": [
       "url                       7076\n",
       "year                      7076\n",
       "imdb_link                 7076\n",
       "title                     7076\n",
       "Directed by               7076\n",
       "Produced by               7076\n",
       "Screenplay by             7076\n",
       "Story by                  7076\n",
       "Based on                  7076\n",
       "Starring                  7076\n",
       "Narrated by               7076\n",
       "Music by                  7076\n",
       "Cinematography            7076\n",
       "Edited by                 7076\n",
       "Productioncompany         7076\n",
       "Distributed by            7076\n",
       "Release date              7076\n",
       "Running time              7076\n",
       "Country                   7076\n",
       "Language                  7076\n",
       "Budget                    7076\n",
       "Box office                7076\n",
       "Alternative titles        7076\n",
       "Written by                7076\n",
       "Genre                     7076\n",
       "Theme music composer      7076\n",
       "Country of origin         7076\n",
       "Original language(s)      7076\n",
       "Producer(s)               7076\n",
       "Editor(s)                 7076\n",
       "Production company(s)     7076\n",
       "Original network          7076\n",
       "Original release          7076\n",
       "Productioncompanies       7076\n",
       "Executive producer(s)     7076\n",
       "Production location(s)    7076\n",
       "Distributor               7076\n",
       "Picture format            7076\n",
       "Audio format              7076\n",
       "Voices of                 7076\n",
       "Followed by               7076\n",
       "Composer(s)               7076\n",
       "Created by                7076\n",
       "Preceded by               7076\n",
       "Adaptation by             7076\n",
       "Suggested by              7076\n",
       "Released                  7076\n",
       "Recorded                  7076\n",
       "Venue                     7076\n",
       "Length                    7076\n",
       "Label                     7076\n",
       "Director                  7076\n",
       "Producer                  7076\n",
       "Animation by              7076\n",
       "Color process             7076\n",
       "Screen story by           7076\n",
       "dtype: int64"
      ]
     },
     "metadata": {},
     "execution_count": 194
    }
   ],
   "source": [
    "wiki_movies_df.notnull().count()"
   ]
  },
  {
   "cell_type": "code",
   "execution_count": null,
   "metadata": {},
   "outputs": [],
   "source": []
  }
 ]
}